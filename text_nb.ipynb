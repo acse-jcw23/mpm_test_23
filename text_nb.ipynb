{
 "cells": [
  {

   "cell_type": "markdown",
   "metadata": {},
   "source": [
    "# My new notebook"
   ]
  },
  {

    "c=np.cos(np.pi/2)\n",
    "print(c)"

   ]
  }
 ],
 "metadata": {
  "language_info": {
   "name": "python"
  }
 },
 "nbformat": 4,
 "nbformat_minor": 2
}
